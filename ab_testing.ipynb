{
 "cells": [
  {
   "cell_type": "markdown",
   "id": "6c5a11bd",
   "metadata": {},
   "source": [
    "# A/B Testing: A Quick Tutorial\n",
    "\n",
    "Hello! In this notebook, we will go over the full process of analyzing some simple A/B data, including formulating a hypothesis, testing that hypothesis, and interpreting the results. The dataset we will be using can be found [on Kaggle](https://www.kaggle.com/zhangluyuan/ab-testing). Here's the steps that we will go through:\n",
    "\n",
    "1. What is A/B testing?\n",
    "2. Formulating a hypothesis.\n",
    "3. \"Gathering\" data.\n",
    "4. Analyzing that data and testing our hypotheis.\n",
    "5. Interpreting the results."
   ]
  },
  {
   "cell_type": "code",
   "execution_count": 82,
   "id": "14b2460e",
   "metadata": {},
   "outputs": [],
   "source": [
    "# Load in all the necesary libraries\n",
    "import numpy as np\n",
    "import pandas as pd\n",
    "import statsmodels.stats.api as sms\n",
    "import scipy.stats as stats\n",
    "\n",
    "import matplotlib.pyplot as plt\n",
    "import seaborn as sns\n",
    "\n",
    "%matplotlib inline"
   ]
  },
  {
   "cell_type": "markdown",
   "id": "db9a34c0",
   "metadata": {},
   "source": [
    "# What is A/B Testing?\n",
    "\n",
    "A/B testing is a statistical process to compare two (or more) versions of a variable. Each of those versions are shown to different groups in order to determine which version performs better, and if there is a statistically significant difference between them. Generally, A is the 'control' group, which is the original version of the variable, and B is the variation to the control. Let's give an example:\n",
    "\n",
    "> Let's say we are a small business named Pear with a simple landing page. A UX designer has created a new landing page and you want to determine whether the new version would provide an increase to the overall performance of the business. The original page provided a conversion rate of 12%, and the intention is to increase the conversion rate by 3% (total of 15%). "
   ]
  },
  {
   "cell_type": "markdown",
   "id": "975affd5",
   "metadata": {},
   "source": [
    "How do we determine if the new landing page provided the desired increase over the original? We can create an experiment where the different landing pages are the \"variables,\" and the results are whether a person eventually bought the product. Then we can compare the original and the new version to see if there was the desired improvement."
   ]
  },
  {
   "cell_type": "markdown",
   "id": "42992174",
   "metadata": {},
   "source": [
    "# Formulating a Hypothesis\n",
    "\n",
    "We want to create a hypothesis to determine whether the new webpage performed better than the old one. This hypothesis is what we want to test in a statistically rigorous way. We have two possible situations that could arise, the first is that the two webpages perform statistically the same. The first situation is the null hypothesis. The other situation is that they are statistically different. But we want to be sure that hte new webpage performs better than the old webpage. This is the alternative hypothesis. That means we will perform a [upper-tailed test](https://sphweb.bumc.bu.edu/otlt/mph-modules/bs/bs704_hypothesistest-means-proportions/bs704_hypothesistest-means-proportions3.html). Our hypotheses can be written as such:\n",
    "\n",
    "\\begin{align*}\n",
    "    H_0: a_0 = a_1 \\\\\n",
    "    H_1: a_0 < a_1\n",
    "\\end{align*}\n",
    "\n",
    "where $H_0$ is our null hypothesis, $H_1$ is the alternative hypothesis, $a_0$ is the conversion rate of the original webpage, and $a_1$ is the conversion rate of the new webpage. Now, before we do any experimenting, we need to choose a signifance level $\\alpha$. This is a threshold value that we set to indicate the results of the test. The test will determine a probability of observing our data, assuming that the null hypothesis is true. If that probability is less than our significance value, then we reject our null hypothesis for being too unlikely. It's common to set $\\alpha=0.05$, which means that our threshold is 5% probability. The confidence of our test is $1 - 0.05 = 95\\%$.\n",
    "\n",
    "###  Designing the Test\n",
    "\n",
    "What do we want to measure? We have two different webpages, one is the default and the other is the change, so that is our independent variable. I.e. the variable that we are changing. The value we are measuring is conversion rate, which is the dependent variable because we are testing how it changes based on the independent variable. In this case, we can code each user's decision as a binary variable. \n",
    "* 1 if the user decided to make a purchase.\n",
    "* 0 if the user did not.\n",
    "The conversion rate is then the mean percentage of users that made a purchase.\n",
    "\n",
    "Knowning the number of participants that we need to get strong results is very important in A/B testing. So, how many user will we need for our survey? We won't be able to survey everyone (which would be the full population), so we need to select a sample to estimate the population. But how many people are needed to give us a good, representative sample? Well, it's a balance of two things:\n",
    "* The larger the sample, the more accurate our sample will be to the overall population.\n",
    "* The larger the sample, the more expensive, time-consuming and impractical it will be to collect all the data.\n",
    "\n",
    "To figure this out, we can use something called [Power Analysis](https://machinelearningmastery.com/statistical-power-and-power-analysis-in-python/). Statistical power, or the power of a hypothesis test, is the probability that the test will correctly reject a false null hypothesis. A regular convention is to let power be $0.8$. That means that, for our experiment, if there exists an actual difference in conversion rate between the webpages, we have about an 80% chance to correctly classify that difference as statistically significant. However, there's one more piece. We need to have the correct sample size. Thankfully, using a 0.8 power, as well as our significance level ($\\alpha=0.05$) and our effect size (started with 12%, want 15%), we can calculate the minimum sample size.\n",
    "\n",
    "We can use Python's Statsmodels package to do these calculations."
   ]
  },
  {
   "cell_type": "code",
   "execution_count": 23,
   "id": "87a7dc16",
   "metadata": {},
   "outputs": [
    {
     "name": "stdout",
     "output_type": "stream",
     "text": [
      "2031\n"
     ]
    }
   ],
   "source": [
    "# Initialize our desired attributes\n",
    "alpha = 0.05\n",
    "power = 0.8\n",
    "default_rate = 0.12\n",
    "new_rate = 0.15\n",
    "\n",
    "# Convert our proportional rates to a difference in effect size\n",
    "effect_size = sms.proportion_effectsize(new_rate, default_rate)\n",
    "\n",
    "# Calculate the minimum sample size\n",
    "min_sample_size = sms.TTestIndPower().solve_power(effect_size,\n",
    "                                                  power=power,\n",
    "                                                  alpha=alpha)\n",
    "# Convert to an integer\n",
    "min_sample_size = int(min_sample_size)\n",
    "print(min_sample_size)"
   ]
  },
  {
   "cell_type": "markdown",
   "id": "ca7874e1",
   "metadata": {},
   "source": [
    "We need at least 2031 observations for each group to achieve the power, alpha and effect size that we outlined. Excellent!"
   ]
  },
  {
   "cell_type": "markdown",
   "id": "6d9e95ec",
   "metadata": {},
   "source": [
    "# \"Gathering\" the Data\n",
    "\n",
    "We have all of our specifications, now it's time to actually perform the experiment. This is where we would go off and collect the data, but we're just going to use the CSV file provided to simulate the results. Let's load it in now."
   ]
  },
  {
   "cell_type": "code",
   "execution_count": 27,
   "id": "c8ffc0f7",
   "metadata": {},
   "outputs": [
    {
     "data": {
      "text/html": [
       "<div>\n",
       "<style scoped>\n",
       "    .dataframe tbody tr th:only-of-type {\n",
       "        vertical-align: middle;\n",
       "    }\n",
       "\n",
       "    .dataframe tbody tr th {\n",
       "        vertical-align: top;\n",
       "    }\n",
       "\n",
       "    .dataframe thead th {\n",
       "        text-align: right;\n",
       "    }\n",
       "</style>\n",
       "<table border=\"1\" class=\"dataframe\">\n",
       "  <thead>\n",
       "    <tr style=\"text-align: right;\">\n",
       "      <th></th>\n",
       "      <th>user_id</th>\n",
       "      <th>timestamp</th>\n",
       "      <th>group</th>\n",
       "      <th>landing_page</th>\n",
       "      <th>converted</th>\n",
       "    </tr>\n",
       "  </thead>\n",
       "  <tbody>\n",
       "    <tr>\n",
       "      <td>0</td>\n",
       "      <td>851104</td>\n",
       "      <td>2017-01-21 22:11:48.556739</td>\n",
       "      <td>control</td>\n",
       "      <td>old_page</td>\n",
       "      <td>0</td>\n",
       "    </tr>\n",
       "    <tr>\n",
       "      <td>1</td>\n",
       "      <td>804228</td>\n",
       "      <td>2017-01-12 08:01:45.159739</td>\n",
       "      <td>control</td>\n",
       "      <td>old_page</td>\n",
       "      <td>0</td>\n",
       "    </tr>\n",
       "    <tr>\n",
       "      <td>2</td>\n",
       "      <td>661590</td>\n",
       "      <td>2017-01-11 16:55:06.154213</td>\n",
       "      <td>treatment</td>\n",
       "      <td>new_page</td>\n",
       "      <td>0</td>\n",
       "    </tr>\n",
       "    <tr>\n",
       "      <td>3</td>\n",
       "      <td>853541</td>\n",
       "      <td>2017-01-08 18:28:03.143765</td>\n",
       "      <td>treatment</td>\n",
       "      <td>new_page</td>\n",
       "      <td>0</td>\n",
       "    </tr>\n",
       "    <tr>\n",
       "      <td>4</td>\n",
       "      <td>864975</td>\n",
       "      <td>2017-01-21 01:52:26.210827</td>\n",
       "      <td>control</td>\n",
       "      <td>old_page</td>\n",
       "      <td>1</td>\n",
       "    </tr>\n",
       "  </tbody>\n",
       "</table>\n",
       "</div>"
      ],
      "text/plain": [
       "   user_id                   timestamp      group landing_page  converted\n",
       "0   851104  2017-01-21 22:11:48.556739    control     old_page          0\n",
       "1   804228  2017-01-12 08:01:45.159739    control     old_page          0\n",
       "2   661590  2017-01-11 16:55:06.154213  treatment     new_page          0\n",
       "3   853541  2017-01-08 18:28:03.143765  treatment     new_page          0\n",
       "4   864975  2017-01-21 01:52:26.210827    control     old_page          1"
      ]
     },
     "execution_count": 27,
     "metadata": {},
     "output_type": "execute_result"
    }
   ],
   "source": [
    "df = pd.read_csv(\"ab_data.csv\")\n",
    "df.head()"
   ]
  },
  {
   "cell_type": "code",
   "execution_count": 30,
   "id": "d46fdcb5",
   "metadata": {},
   "outputs": [
    {
     "name": "stdout",
     "output_type": "stream",
     "text": [
      "<class 'pandas.core.frame.DataFrame'>\n",
      "RangeIndex: 294478 entries, 0 to 294477\n",
      "Data columns (total 5 columns):\n",
      "user_id         294478 non-null int64\n",
      "timestamp       294478 non-null object\n",
      "group           294478 non-null object\n",
      "landing_page    294478 non-null object\n",
      "converted       294478 non-null int64\n",
      "dtypes: int64(2), object(3)\n",
      "memory usage: 11.2+ MB\n"
     ]
    }
   ],
   "source": [
    "df.info()"
   ]
  },
  {
   "cell_type": "markdown",
   "id": "a5630181",
   "metadata": {},
   "source": [
    "As with any Data Science project, it's good to explore and clean the data up before we use it. We can see from the info above that there aren't any missing values, which makes our job a bit easier. Here's some things we can do before calculating anything: \n",
    "* Remove any repeated rows.\n",
    "* Drop Unneeded columns (`user_id`, `timestamp`, `landing_page`)\n",
    "* Convert our independent variable to a binary variable."
   ]
  },
  {
   "cell_type": "code",
   "execution_count": 45,
   "id": "1a0be6fe",
   "metadata": {},
   "outputs": [
    {
     "data": {
      "text/html": [
       "<div>\n",
       "<style scoped>\n",
       "    .dataframe tbody tr th:only-of-type {\n",
       "        vertical-align: middle;\n",
       "    }\n",
       "\n",
       "    .dataframe tbody tr th {\n",
       "        vertical-align: top;\n",
       "    }\n",
       "\n",
       "    .dataframe thead th {\n",
       "        text-align: right;\n",
       "    }\n",
       "</style>\n",
       "<table border=\"1\" class=\"dataframe\">\n",
       "  <thead>\n",
       "    <tr style=\"text-align: right;\">\n",
       "      <th></th>\n",
       "      <th>group</th>\n",
       "      <th>converted</th>\n",
       "    </tr>\n",
       "  </thead>\n",
       "  <tbody>\n",
       "    <tr>\n",
       "      <td>0</td>\n",
       "      <td>0</td>\n",
       "      <td>0</td>\n",
       "    </tr>\n",
       "    <tr>\n",
       "      <td>1</td>\n",
       "      <td>0</td>\n",
       "      <td>0</td>\n",
       "    </tr>\n",
       "    <tr>\n",
       "      <td>2</td>\n",
       "      <td>1</td>\n",
       "      <td>0</td>\n",
       "    </tr>\n",
       "    <tr>\n",
       "      <td>3</td>\n",
       "      <td>1</td>\n",
       "      <td>0</td>\n",
       "    </tr>\n",
       "    <tr>\n",
       "      <td>4</td>\n",
       "      <td>0</td>\n",
       "      <td>1</td>\n",
       "    </tr>\n",
       "  </tbody>\n",
       "</table>\n",
       "</div>"
      ],
      "text/plain": [
       "   group  converted\n",
       "0      0          0\n",
       "1      0          0\n",
       "2      1          0\n",
       "3      1          0\n",
       "4      0          1"
      ]
     },
     "execution_count": 45,
     "metadata": {},
     "output_type": "execute_result"
    }
   ],
   "source": [
    "# Make a copy of the original dataframe\n",
    "df_clean = df.copy()\n",
    "\n",
    "# Remove duplicate rows\n",
    "df_clean = df_clean.drop_duplicates()\n",
    "# Drop unneeded columns (user_id, timestamp)\n",
    "df_clean = df_clean.drop([\"user_id\", \"timestamp\", \"landing_page\"], axis=1)\n",
    "# Convert the `group` label to binary\n",
    "df_clean[\"group\"] = df_clean[\"group\"].apply(lambda x: 0 if x==\"control\" else 1)\n",
    "\n",
    "df_clean.head()"
   ]
  },
  {
   "cell_type": "markdown",
   "id": "9d627367",
   "metadata": {},
   "source": [
    "Now, we made the claim earlier that we only needed 2031 observations for our data. Because we're using a kaggle dataset instead of actually performing the experiment, we have many more than that. Let's create a reduced set that only uses as much data as we need from our power calculations."
   ]
  },
  {
   "cell_type": "code",
   "execution_count": 114,
   "id": "e88b6ed8",
   "metadata": {},
   "outputs": [
    {
     "data": {
      "text/plain": [
       "4062"
      ]
     },
     "execution_count": 114,
     "metadata": {},
     "output_type": "execute_result"
    }
   ],
   "source": [
    "# Randomly sample the minimum number of observations from the data\n",
    "# So as not to introduce bias, we will \n",
    "df_control = df_clean[df_clean[\"group\"] == 0].sample(min_sample_size, random_state=42)\n",
    "df_treatment = df_clean[df_clean[\"group\"] == 1].sample(min_sample_size, random_state=42)\n",
    "df_small = pd.concat([df_control, df_treatment], axis=0)\n",
    "# Check that we have 4062 (2031 * 2) rows\n",
    "df_small.shape[0]"
   ]
  },
  {
   "cell_type": "markdown",
   "id": "7eb08f51",
   "metadata": {},
   "source": [
    "# Analyzing the Dataset\n",
    "\n",
    "We have our data, and it's always a good idea to do some exploratory analysis of that data. Let's calculate some descriptive statistics and make some plots!"
   ]
  },
  {
   "cell_type": "code",
   "execution_count": 115,
   "id": "7e59f8d6",
   "metadata": {},
   "outputs": [
    {
     "data": {
      "text/html": [
       "<div>\n",
       "<style scoped>\n",
       "    .dataframe tbody tr th:only-of-type {\n",
       "        vertical-align: middle;\n",
       "    }\n",
       "\n",
       "    .dataframe tbody tr th {\n",
       "        vertical-align: top;\n",
       "    }\n",
       "\n",
       "    .dataframe thead tr th {\n",
       "        text-align: left;\n",
       "    }\n",
       "\n",
       "    .dataframe thead tr:last-of-type th {\n",
       "        text-align: right;\n",
       "    }\n",
       "</style>\n",
       "<table border=\"1\" class=\"dataframe\">\n",
       "  <thead>\n",
       "    <tr>\n",
       "      <th></th>\n",
       "      <th colspan=\"3\" halign=\"left\">converted</th>\n",
       "    </tr>\n",
       "    <tr>\n",
       "      <th></th>\n",
       "      <th>mean</th>\n",
       "      <th>std</th>\n",
       "      <th>std.err</th>\n",
       "    </tr>\n",
       "    <tr>\n",
       "      <th>group</th>\n",
       "      <th></th>\n",
       "      <th></th>\n",
       "      <th></th>\n",
       "    </tr>\n",
       "  </thead>\n",
       "  <tbody>\n",
       "    <tr>\n",
       "      <td>0</td>\n",
       "      <td>0.131462</td>\n",
       "      <td>0.337989</td>\n",
       "      <td>0.005303</td>\n",
       "    </tr>\n",
       "    <tr>\n",
       "      <td>1</td>\n",
       "      <td>0.114229</td>\n",
       "      <td>0.318168</td>\n",
       "      <td>0.004992</td>\n",
       "    </tr>\n",
       "  </tbody>\n",
       "</table>\n",
       "</div>"
      ],
      "text/plain": [
       "      converted                    \n",
       "           mean       std   std.err\n",
       "group                              \n",
       "0      0.131462  0.337989  0.005303\n",
       "1      0.114229  0.318168  0.004992"
      ]
     },
     "execution_count": 115,
     "metadata": {},
     "output_type": "execute_result"
    }
   ],
   "source": [
    "# What are the conversion rates, per group?\n",
    "df_summary = df_small.groupby(\"group\").agg([np.mean, np.std])\n",
    "df_summary[('converted', 'std.err')] = df_summary[('converted', 'std')] / np.sqrt(min_sample_size*2)\n",
    "df_summary"
   ]
  },
  {
   "cell_type": "markdown",
   "id": "8fcf2d8e",
   "metadata": {},
   "source": [
    "From the descriptive statistics, it looks like the two groups performed very similarly. In fact, the control group appears to perform slightly better than the treatment group. Which isn't good news for our hypothesis. We can also make a visual representation of the conversion rate."
   ]
  },
  {
   "cell_type": "code",
   "execution_count": 116,
   "id": "20219924",
   "metadata": {},
   "outputs": [
    {
     "data": {
      "image/png": "[encoded data removed]",
      "text/plain": [
       "<Figure size 648x432 with 1 Axes>"
      ]
     },
     "metadata": {
      "needs_background": "light"
     },
     "output_type": "display_data"
    }
   ],
   "source": [
    "fig, ax = plt.subplots(1, 1, figsize=(9, 6))\n",
    "sns.histplot(df_small, x=\"converted\", hue=\"group\", multiple=\"dodge\", ax=ax)\n",
    "ax.set_title(\"Histogram of Conversions\")\n",
    "ax.set_xlabel(\"Did the Interaction Lead to a Purchase?\");"
   ]
  },
  {
   "cell_type": "markdown",
   "id": "a321bbdc",
   "metadata": {},
   "source": [
    "The plot shows a similar result, that the counts between the two are very similar, and that more customers purchased an object in the control group versus the treatment group.\n",
    "\n",
    "We've taken some initial inspections, now let's actually do the calculations to test our hypothesis. Remember, we are testing the hypothesis that the treatment group has a conversion rate that is statistically greater than the conversion rate of the control group, at a 95% confidence level.\n",
    "\n",
    "There are two main ways we can test this hypothesis:\n",
    "1. Confidence Intervals: Each group has a convserion score, which is an estimation of the \"true\" conversion score of the entire population. We can determine the range of conversion scores that each group is likely to fall within, given our significance level. This range is called a Confidence Interval (CI). If the CI of the control group's conversion score overlaps with the CI of the treatment group's conversion score, then we fail to reject the null hypothesis. I.e. the two groups do not have statistically different conversion rates."
   ]
  },
  {
   "cell_type": "code",
   "execution_count": 122,
   "id": "c02d6827",
   "metadata": {},
   "outputs": [
    {
     "name": "stdout",
     "output_type": "stream",
     "text": [
      "Conversion Rate CI for Control Group: [0.11676670659939874, 0.14615796105200451]\n",
      "Conversion Rate CI for Treatment Group: [0.10039560261596504, 0.1280632846316962]\n"
     ]
    }
   ],
   "source": [
    "# We need to calculate the CI for the difference between proportions.\n",
    "# To do that, we can follow this formula: p +- z_alpha * sqrt(p(1-p)/n)\n",
    "# Where z_alpha is the z-critical value based on our confidence level\n",
    "# p is the proportion of our group (in our case, the conversion rate)\n",
    "# n is the sample size\n",
    "\n",
    "# Calculate z-critical value for 95% confidence\n",
    "z = stats.norm.ppf(1 - alpha/2)\n",
    "\n",
    "# Initialize our convsersion rates and n_sample values\n",
    "n_control = len(df_small.loc[df_small[\"group\"]==0])\n",
    "n_treat = len(df_small.loc[df_small[\"group\"]==1])\n",
    "conv_control = np.mean(df_small.loc[df_small[\"group\"]==0][\"converted\"])\n",
    "conv_treat = np.mean(df_small.loc[df_small[\"group\"]==1][\"converted\"])\n",
    "\n",
    "# Calculate the Confidence Intervals\n",
    "ci_control = [conv_control-z*np.sqrt(conv_control*(1-conv_control)/n_control), \\\n",
    "              conv_control+z*np.sqrt(conv_control*(1-conv_control)/n_control)]\n",
    "ci_treat = [conv_treat-z*np.sqrt(conv_treat*(1-conv_treat)/n_treat), \\\n",
    "              conv_treat+z*np.sqrt(conv_treat*(1-conv_treat)/n_treat)]\n",
    "\n",
    "print(\"Conversion Rate CI for Control Group: {}\".format(ci_control))\n",
    "print(\"Conversion Rate CI for Treatment Group: {}\".format(ci_treat))"
   ]
  },
  {
   "cell_type": "code",
   "execution_count": 123,
   "id": "5c2b845c",
   "metadata": {},
   "outputs": [
    {
     "name": "stdout",
     "output_type": "stream",
     "text": [
      "Control Group: [0.11676670659939874, 0.14615796105200454]\n",
      "Treatment Group: [0.10039560261596504, 0.1280632846316962]\n"
     ]
    }
   ],
   "source": [
    "# We can check our values against a builtin package's CI calculator\n",
    "from statsmodels.stats.proportion import proportion_confint\n",
    "\n",
    "successes = [df_small.loc[df_small[\"group\"]==0][\"converted\"].sum(), df_small.loc[df_small[\"group\"]==1][\"converted\"].sum()]\n",
    "n_samples = [n_control, n_treat]\n",
    "(control_lower, treat_lower), (control_upper, treat_upper) = proportion_confint(successes, nobs=n_samples, alpha=0.05)\n",
    "\n",
    "print(\"Control Group:\", [control_lower, control_upper])\n",
    "print(\"Treatment Group:\", [treat_lower, treat_upper])"
   ]
  },
  {
   "cell_type": "markdown",
   "id": "126ae780",
   "metadata": {},
   "source": [
    "2. P-values: We can calculate the probability of observing our treatment data, or more extreme data, assuming our null hypothesis is true. If the probability is very small (less than our significance of 0.05), then we reject the null hypothesis. If it is not, then we fail to reject the null hypothesis. We can calculate this probability using a Z-test, because we have a large number of samples, thanks to the Central Limit Theorem."
   ]
  },
  {
   "cell_type": "code",
   "execution_count": 124,
   "id": "b0b0fccf",
   "metadata": {},
   "outputs": [
    {
     "name": "stdout",
     "output_type": "stream",
     "text": [
      "P-Value: 0.9528302390397035\n"
     ]
    }
   ],
   "source": [
    "# We can use existing methods to calculate a Z-test\n",
    "from statsmodels.stats.proportion import proportions_ztest\n",
    "\n",
    "z_stat, pval = proportions_ztest(successes, nobs=n_samples, alternative=\"smaller\")\n",
    "print(\"P-Value:\", pval)"
   ]
  },
  {
   "cell_type": "markdown",
   "id": "3a6649e7",
   "metadata": {},
   "source": [
    "# Interpreting the Results\n",
    "\n",
    "We've performed statistics! But what do the numbers mean? Well, both tests give us the same answer that we failed to reject the null hypothesis.\n",
    "\n",
    "1. The CI for conversion rates overlap, meaning that we reject the null hypothesis. We can also see that the treatment group contained a conversion rate of 0.12, and did not contain the 0.15 conversion rate we where looking for.\n",
    "2. The P-value we calculated is much larger than our significance value (0.952 > 0.05).\n",
    "\n",
    "From these results, we fail to reject the null hypothesis. Therefor, we conclude that the treatment group (and thus the new version of the webpage) does not provide a statistically significant improvement over the control group, let alone the 3% increase that we wanted."
   ]
  },
  {
   "cell_type": "markdown",
   "id": "4f9f0dd5",
   "metadata": {},
   "source": [
    "# Bonus Section: Considerations\n",
    "\n",
    "While the results of the A/B test are clear, real life situations are rarely as clearcut as this example. There are many other things that are worth considering when designing a test and interpreting the results.\n",
    "\n",
    "1. Time can play a significant role in metrics. If group A is asked to buy something during the holiday season, and group B is asked after the season, then that can affect the results of the study. This is just one example, but it's not hard to imagine other examples of time of day, weekday vs. weekend, and seasonality affecting whether a user's visit ends in a sale.\n",
    "2. There may be engineering costs, opportunity costs, maintenance, etc. that are not strictly accounted for in an A/B test. These costs should be factored into a final decision of whether a change is worth it.\n",
    "3. Users may be used to the old design, and may need some time to get used to a completely new webpage. This can be difficult to account for with a A/B tests, which largely account for short-term changes.\n",
    "4. It's always important to question to validity of the data, as that could disrupt the conclusions made from statistical tests. Was there potential interference between the groups? Was one group affected by bugs that the other wasn't? \n",
    "5. In the end, humans are complicated. An A/B test is a statistical tool to make informed decisions, but they are not law. If a test says one thing, but you are certain that you should do a different thing, then go for it!\n",
    "\n",
    "That's it. Thank you for reading this short tutorial on A/B testing!"
   ]
  }
 ],
 "metadata": {
  "kernelspec": {
   "display_name": "Python 3",
   "language": "python",
   "name": "python3"
  },
  "language_info": {
   "codemirror_mode": {
    "name": "ipython",
    "version": 3
   },
   "file_extension": ".py",
   "mimetype": "text/x-python",
   "name": "python",
   "nbconvert_exporter": "python",
   "pygments_lexer": "ipython3",
   "version": "3.6.9"
  }
 },
 "nbformat": 4,
 "nbformat_minor": 5
}
